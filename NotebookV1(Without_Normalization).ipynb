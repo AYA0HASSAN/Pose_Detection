{
  "cells": [
    {
      "cell_type": "markdown",
      "metadata": {
        "id": "view-in-github",
        "colab_type": "text"
      },
      "source": [
        "<a href=\"https://colab.research.google.com/github/AYA0HASSAN/Pose_detection/blob/main/NotebookV1(Without_Normalization).ipynb\" target=\"_parent\"><img src=\"https://colab.research.google.com/assets/colab-badge.svg\" alt=\"Open In Colab\"/></a>"
      ]
    },
    {
      "cell_type": "code",
      "execution_count": null,
      "id": "d552ff3c",
      "metadata": {
        "id": "d552ff3c"
      },
      "outputs": [],
      "source": [
        "# !pip install mediapipe opencv-python"
      ]
    },
    {
      "cell_type": "code",
      "execution_count": null,
      "id": "49828bef",
      "metadata": {
        "id": "49828bef"
      },
      "outputs": [],
      "source": [
        "# import mediapipe and opencv\n",
        "import mediapipe as mp\n",
        "import cv2\n",
        "import glob\n",
        "import numpy as np\n",
        "import csv\n",
        "import os\n",
        "from mat4py import loadmat\n",
        "import scipy.io as sio\n",
        "import math"
      ]
    },
    {
      "cell_type": "code",
      "execution_count": null,
      "id": "ee50dca5",
      "metadata": {
        "id": "ee50dca5"
      },
      "outputs": [],
      "source": [
        "\n"
      ]
    },
    {
      "cell_type": "code",
      "execution_count": null,
      "id": "bc0099a6",
      "metadata": {
        "id": "bc0099a6"
      },
      "outputs": [],
      "source": [
        "mp_drawing = mp.solutions.drawing_utils # Drawing helpers\n",
        "mp_holistic = mp.solutions.holistic # Mediapipe Solutions\n",
        "mp_drawing_styles = mp.solutions.drawing_styles\n"
      ]
    },
    {
      "cell_type": "code",
      "execution_count": null,
      "id": "aed69b7b",
      "metadata": {
        "id": "aed69b7b"
      },
      "outputs": [],
      "source": [
        ""
      ]
    },
    {
      "cell_type": "code",
      "execution_count": null,
      "id": "0f5724bd",
      "metadata": {
        "id": "0f5724bd"
      },
      "outputs": [],
      "source": [
        "paths,paths_mat=[],[]\n",
        "# get the path/directory\n",
        "folder_dir =\"C:\\\\Users\\\\ahmad\\Downloads\\AFLW2000\"\n",
        "\n",
        "# iterate over files in\n",
        "# that directory\n",
        "for images in glob.iglob(f'{folder_dir}/*'):\n",
        "\n",
        "    # check if the image ends with png\n",
        "    if (images.endswith(\".jpg\")):\n",
        "#         print(images)\n",
        "        paths.append(images)"
      ]
    },
    {
      "cell_type": "code",
      "execution_count": null,
      "id": "772092a8",
      "metadata": {
        "id": "772092a8"
      },
      "outputs": [],
      "source": [
        "len(paths)"
      ]
    },
    {
      "cell_type": "code",
      "execution_count": null,
      "id": "739ecb84",
      "metadata": {
        "id": "739ecb84"
      },
      "outputs": [],
      "source": [
        ""
      ]
    },
    {
      "cell_type": "code",
      "execution_count": null,
      "id": "aca5d6d3",
      "metadata": {
        "id": "aca5d6d3"
      },
      "outputs": [],
      "source": [
        ""
      ]
    },
    {
      "cell_type": "code",
      "execution_count": null,
      "id": "d7b64f26",
      "metadata": {
        "id": "d7b64f26"
      },
      "outputs": [],
      "source": [
        "with mp_holistic.Holistic(min_detection_confidence=0.5, min_tracking_confidence=0.5) as holistic: \n",
        "\n",
        "    for idx, file in enumerate(paths):\n",
        "        image = cv2.imread(file)\n",
        "        image_height, image_width, _ = image.shape\n",
        "        # Convert the BGR image to RGB before processing.\n",
        "        results = holistic.process(cv2.cvtColor(image, cv2.COLOR_BGR2RGB))\n",
        "#         results = holistic.process(image)\n",
        "#         print(results.face_landmarks)\n",
        "        mp_drawing.draw_landmarks(image, results.face_landmarks, mp_holistic.FACEMESH_TESSELATION, \n",
        "                                 mp_drawing.DrawingSpec(color=(80,110,10), thickness=1, circle_radius=1),\n",
        "                                 mp_drawing.DrawingSpec(color=(80,256,121), thickness=1, circle_radius=1)\n",
        "                                 )\n",
        "        \n",
        "        \n",
        "        break\n"
      ]
    },
    {
      "cell_type": "code",
      "execution_count": null,
      "id": "c7d1dcb0",
      "metadata": {
        "id": "c7d1dcb0"
      },
      "outputs": [],
      "source": [
        "results.face_landmarks.landmark[0]"
      ]
    },
    {
      "cell_type": "code",
      "execution_count": null,
      "id": "d6411df6",
      "metadata": {
        "id": "d6411df6"
      },
      "outputs": [],
      "source": [
        "num_coords = len(results.face_landmarks.landmark)\n",
        "num_coords"
      ]
    },
    {
      "cell_type": "code",
      "execution_count": null,
      "id": "509665ef",
      "metadata": {
        "id": "509665ef"
      },
      "outputs": [],
      "source": [
        "landmarks = []\n",
        "for val in range(1, num_coords+1):\n",
        "    landmarks += ['x{}'.format(val), 'y{}'.format(val)]\n",
        "# landmarks\n",
        "angles=['pitch','yaw','roll']\n",
        "data = landmarks+angles"
      ]
    },
    {
      "cell_type": "code",
      "execution_count": null,
      "id": "32688cf1",
      "metadata": {
        "id": "32688cf1"
      },
      "outputs": [],
      "source": [
        "with open('landmarks_data.csv', mode='w', newline='') as f:\n",
        "    csv_writer = csv.writer(f, delimiter=',', quotechar='\"', quoting=csv.QUOTE_MINIMAL)\n",
        "    csv_writer.writerow(data)"
      ]
    },
    {
      "cell_type": "code",
      "execution_count": null,
      "id": "502410ba",
      "metadata": {
        "id": "502410ba"
      },
      "outputs": [],
      "source": [
        "paths[0].split('\\\\')[-1].replace('jpg','')"
      ]
    },
    {
      "cell_type": "code",
      "execution_count": null,
      "id": "36168297",
      "metadata": {
        "id": "36168297"
      },
      "outputs": [],
      "source": [
        "with mp_holistic.Holistic(min_detection_confidence=0.5, min_tracking_confidence=0.5) as holistic:\n",
        "\n",
        "    for idx, file in enumerate(paths):\n",
        "        count=0\n",
        "        image = cv2.imread(file)\n",
        "        image_height, image_width, _ = image.shape\n",
        "#         Convert the BGR image to RGB before processing.\n",
        "        results = holistic.process(cv2.cvtColor(image, cv2.COLOR_BGR2RGB))\n",
        "\n",
        "        try:\n",
        "           \n",
        "            face = results.face_landmarks.landmark\n",
        "            NoseX = results.pose_landmarks.landmark[mp_holistic.PoseLandmark.NOSE].x * image_width\n",
        "            NoseY=results.pose_landmarks.landmark[mp_holistic.PoseLandmark.NOSE].y   *image_height\n",
        "            LfeoX = results.pose_landmarks.landmark[mp_holistic.PoseLandmark.LEFT_EYE_OUTER].x *image_width\n",
        "            LfeoY = results.pose_landmarks.landmark[mp_holistic.PoseLandmark.LEFT_EYE_OUTER].y* image_height\n",
        "            \n",
        "            dist = math.dist([NoseX, NoseY], [LfeoX, LfeoY])\n",
        "        \n",
        "            \n",
        "            \n",
        "            \n",
        "            \n",
        "            \n",
        "            face_row = list(np.array([[   ((landmark.x *image_width)-NoseX)/dist, \n",
        "                                            ((landmark.y*image_height)-NoseY)/dist] for landmark in face]).flatten())\n",
        "            \n",
        "            random_file = file.split('\\\\')[-1].replace('.jpg' , '')\n",
        "            mat_file = sio.loadmat('C:\\\\Users\\\\ahmad\\\\Downloads\\\\AFLW2000\\\\'+ random_file+ '.mat')\n",
        "            pose_para = mat_file[\"Pose_Para\"][0][:3]\n",
        "            pitch = pose_para[0]\n",
        "            yaw = pose_para[1]\n",
        "            roll = pose_para[2]\n",
        "            face_row.insert(((468*2)+0),pitch)\n",
        "            face_row.insert(((468*2)+1),yaw)\n",
        "            face_row.insert(((468*2)+2),roll)\n",
        "            \n",
        "            with open('landmarks_data.csv', mode='a', newline='') as f:\n",
        "                csv_writer = csv.writer(f, delimiter=',', quotechar='\"', quoting=csv.QUOTE_MINIMAL)\n",
        "                csv_writer.writerow(face_row) \n",
        "                \n",
        "        except:\n",
        "            pass\n",
        "        "
      ]
    },
    {
      "cell_type": "code",
      "execution_count": null,
      "id": "590c07ae",
      "metadata": {
        "id": "590c07ae"
      },
      "outputs": [],
      "source": [
        ""
      ]
    },
    {
      "cell_type": "markdown",
      "id": "51c70889",
      "metadata": {
        "id": "51c70889"
      },
      "source": [
        "# Read and Prepare Data"
      ]
    },
    {
      "cell_type": "code",
      "execution_count": null,
      "id": "51df8af8",
      "metadata": {
        "id": "51df8af8"
      },
      "outputs": [],
      "source": [
        "import pandas as pd\n",
        "from sklearn.model_selection import train_test_split"
      ]
    },
    {
      "cell_type": "code",
      "execution_count": null,
      "id": "9ecc94e1",
      "metadata": {
        "id": "9ecc94e1",
        "outputId": "c599d60c-675c-4894-c2db-2080b54a1c90"
      },
      "outputs": [
        {
          "data": {
            "text/html": [
              "<div>\n",
              "<style scoped>\n",
              "    .dataframe tbody tr th:only-of-type {\n",
              "        vertical-align: middle;\n",
              "    }\n",
              "\n",
              "    .dataframe tbody tr th {\n",
              "        vertical-align: top;\n",
              "    }\n",
              "\n",
              "    .dataframe thead th {\n",
              "        text-align: right;\n",
              "    }\n",
              "</style>\n",
              "<table border=\"1\" class=\"dataframe\">\n",
              "  <thead>\n",
              "    <tr style=\"text-align: right;\">\n",
              "      <th></th>\n",
              "      <th>x1</th>\n",
              "      <th>y1</th>\n",
              "      <th>x2</th>\n",
              "      <th>y2</th>\n",
              "      <th>x3</th>\n",
              "      <th>y3</th>\n",
              "      <th>x4</th>\n",
              "      <th>y4</th>\n",
              "      <th>x5</th>\n",
              "      <th>y5</th>\n",
              "      <th>...</th>\n",
              "      <th>y465</th>\n",
              "      <th>x466</th>\n",
              "      <th>y466</th>\n",
              "      <th>x467</th>\n",
              "      <th>y467</th>\n",
              "      <th>x468</th>\n",
              "      <th>y468</th>\n",
              "      <th>pitch</th>\n",
              "      <th>yaw</th>\n",
              "      <th>roll</th>\n",
              "    </tr>\n",
              "  </thead>\n",
              "  <tbody>\n",
              "    <tr>\n",
              "      <th>0</th>\n",
              "      <td>-0.159295</td>\n",
              "      <td>0.300003</td>\n",
              "      <td>-0.169120</td>\n",
              "      <td>0.067671</td>\n",
              "      <td>-0.146352</td>\n",
              "      <td>0.109180</td>\n",
              "      <td>-0.190952</td>\n",
              "      <td>-0.301066</td>\n",
              "      <td>-0.161892</td>\n",
              "      <td>-0.022124</td>\n",
              "      <td>...</td>\n",
              "      <td>-0.640003</td>\n",
              "      <td>0.132219</td>\n",
              "      <td>-0.604989</td>\n",
              "      <td>0.751723</td>\n",
              "      <td>-0.761274</td>\n",
              "      <td>0.807323</td>\n",
              "      <td>-0.806983</td>\n",
              "      <td>-0.399231</td>\n",
              "      <td>0.018227</td>\n",
              "      <td>0.085676</td>\n",
              "    </tr>\n",
              "    <tr>\n",
              "      <th>1</th>\n",
              "      <td>-0.334478</td>\n",
              "      <td>0.261430</td>\n",
              "      <td>-0.472663</td>\n",
              "      <td>-0.051103</td>\n",
              "      <td>-0.284650</td>\n",
              "      <td>0.053159</td>\n",
              "      <td>-0.358159</td>\n",
              "      <td>-0.332285</td>\n",
              "      <td>-0.480441</td>\n",
              "      <td>-0.137888</td>\n",
              "      <td>...</td>\n",
              "      <td>-0.525273</td>\n",
              "      <td>0.037087</td>\n",
              "      <td>-0.505745</td>\n",
              "      <td>0.562256</td>\n",
              "      <td>-0.565438</td>\n",
              "      <td>0.632099</td>\n",
              "      <td>-0.617696</td>\n",
              "      <td>0.470065</td>\n",
              "      <td>1.189533</td>\n",
              "      <td>0.300959</td>\n",
              "    </tr>\n",
              "    <tr>\n",
              "      <th>2</th>\n",
              "      <td>-0.981481</td>\n",
              "      <td>1.076963</td>\n",
              "      <td>-0.956155</td>\n",
              "      <td>0.954189</td>\n",
              "      <td>-0.976846</td>\n",
              "      <td>0.985318</td>\n",
              "      <td>-1.013231</td>\n",
              "      <td>0.778098</td>\n",
              "      <td>-0.954629</td>\n",
              "      <td>0.903266</td>\n",
              "      <td>...</td>\n",
              "      <td>0.634062</td>\n",
              "      <td>-0.919076</td>\n",
              "      <td>0.647000</td>\n",
              "      <td>-0.675460</td>\n",
              "      <td>0.588512</td>\n",
              "      <td>-0.651586</td>\n",
              "      <td>0.567591</td>\n",
              "      <td>-0.184650</td>\n",
              "      <td>0.881137</td>\n",
              "      <td>-0.236852</td>\n",
              "    </tr>\n",
              "    <tr>\n",
              "      <th>3</th>\n",
              "      <td>0.127447</td>\n",
              "      <td>0.433119</td>\n",
              "      <td>-0.086203</td>\n",
              "      <td>0.200610</td>\n",
              "      <td>0.035008</td>\n",
              "      <td>0.228611</td>\n",
              "      <td>-0.239562</td>\n",
              "      <td>-0.172509</td>\n",
              "      <td>-0.133581</td>\n",
              "      <td>0.104239</td>\n",
              "      <td>...</td>\n",
              "      <td>-0.642603</td>\n",
              "      <td>0.021166</td>\n",
              "      <td>-0.595805</td>\n",
              "      <td>0.629668</td>\n",
              "      <td>-0.972822</td>\n",
              "      <td>0.673793</td>\n",
              "      <td>-1.040024</td>\n",
              "      <td>-0.175379</td>\n",
              "      <td>0.299208</td>\n",
              "      <td>-0.373374</td>\n",
              "    </tr>\n",
              "    <tr>\n",
              "      <th>4</th>\n",
              "      <td>-0.078761</td>\n",
              "      <td>0.400796</td>\n",
              "      <td>-0.344684</td>\n",
              "      <td>0.090758</td>\n",
              "      <td>-0.104594</td>\n",
              "      <td>0.147864</td>\n",
              "      <td>-0.317465</td>\n",
              "      <td>-0.235742</td>\n",
              "      <td>-0.383646</td>\n",
              "      <td>-0.000681</td>\n",
              "      <td>...</td>\n",
              "      <td>-0.595326</td>\n",
              "      <td>-0.004369</td>\n",
              "      <td>-0.552671</td>\n",
              "      <td>0.427108</td>\n",
              "      <td>-0.790101</td>\n",
              "      <td>0.482372</td>\n",
              "      <td>-0.853066</td>\n",
              "      <td>-0.882169</td>\n",
              "      <td>1.198003</td>\n",
              "      <td>-1.033374</td>\n",
              "    </tr>\n",
              "  </tbody>\n",
              "</table>\n",
              "<p>5 rows × 939 columns</p>\n",
              "</div>"
            ],
            "text/plain": [
              "         x1        y1        x2        y2        x3        y3        x4  \\\n",
              "0 -0.159295  0.300003 -0.169120  0.067671 -0.146352  0.109180 -0.190952   \n",
              "1 -0.334478  0.261430 -0.472663 -0.051103 -0.284650  0.053159 -0.358159   \n",
              "2 -0.981481  1.076963 -0.956155  0.954189 -0.976846  0.985318 -1.013231   \n",
              "3  0.127447  0.433119 -0.086203  0.200610  0.035008  0.228611 -0.239562   \n",
              "4 -0.078761  0.400796 -0.344684  0.090758 -0.104594  0.147864 -0.317465   \n",
              "\n",
              "         y4        x5        y5  ...      y465      x466      y466      x467  \\\n",
              "0 -0.301066 -0.161892 -0.022124  ... -0.640003  0.132219 -0.604989  0.751723   \n",
              "1 -0.332285 -0.480441 -0.137888  ... -0.525273  0.037087 -0.505745  0.562256   \n",
              "2  0.778098 -0.954629  0.903266  ...  0.634062 -0.919076  0.647000 -0.675460   \n",
              "3 -0.172509 -0.133581  0.104239  ... -0.642603  0.021166 -0.595805  0.629668   \n",
              "4 -0.235742 -0.383646 -0.000681  ... -0.595326 -0.004369 -0.552671  0.427108   \n",
              "\n",
              "       y467      x468      y468     pitch       yaw      roll  \n",
              "0 -0.761274  0.807323 -0.806983 -0.399231  0.018227  0.085676  \n",
              "1 -0.565438  0.632099 -0.617696  0.470065  1.189533  0.300959  \n",
              "2  0.588512 -0.651586  0.567591 -0.184650  0.881137 -0.236852  \n",
              "3 -0.972822  0.673793 -1.040024 -0.175379  0.299208 -0.373374  \n",
              "4 -0.790101  0.482372 -0.853066 -0.882169  1.198003 -1.033374  \n",
              "\n",
              "[5 rows x 939 columns]"
            ]
          },
          "execution_count": 2,
          "metadata": {},
          "output_type": "execute_result"
        }
      ],
      "source": [
        "df=pd.read_csv('landmarks_data.csv')\n",
        "df.head()"
      ]
    },
    {
      "cell_type": "code",
      "execution_count": null,
      "id": "e80bc97f",
      "metadata": {
        "id": "e80bc97f"
      },
      "outputs": [],
      "source": [
        "#Features\n",
        "x=df.drop(['pitch','yaw','roll'], axis=1)\n",
        "#Pitch label\n",
        "yp=df['pitch']\n",
        "#Yaw label\n",
        "yy=df['yaw']\n",
        "#roll label\n",
        "yr=df['roll']\n",
        "#labels\n",
        "yall =df[['pitch','yaw','roll']]"
      ]
    },
    {
      "cell_type": "code",
      "execution_count": null,
      "id": "1add621b",
      "metadata": {
        "id": "1add621b"
      },
      "outputs": [],
      "source": [
        "#************************************************ PITCH ****************************************************************\n",
        "\n",
        "X_train_p, X_val_p, y_train_p, y_val_p = train_test_split(x, yp, test_size=0.2, random_state=1234)\n",
        "\n",
        "X_val_p, X_test_p, y_val_p, y_test_p = train_test_split(X_val_p, y_val_p, test_size=0.5, random_state=1234)\n",
        "\n",
        "\n",
        "#************************************************* YAW ******************************************************************\n",
        "\n",
        "X_train_y, X_val_y, y_train_y, y_val_y = train_test_split(x, yy, test_size=0.2, shuffle=True,random_state=1234)\n",
        "\n",
        "X_val_y, X_test_y, y_val_y, y_test_y = train_test_split(X_val_y, y_val_y, test_size=0.5, shuffle=True,random_state=1234)\n",
        "\n",
        "\n",
        "#*********************************************** Roll *******************************************************************\n",
        "\n",
        "X_train_r, X_val_r, y_train_r, y_val_r = train_test_split(x, yr, test_size=0.2,shuffle=True, random_state=1234)\n",
        "\n",
        "X_val_r, X_test_r, y_val_r, y_test_r = train_test_split(X_val_r, y_val_r, test_size=0.5,shuffle=True, random_state=1234)\n",
        "\n",
        "\n",
        "#*************************************************** ALL ****************************************************************\n",
        "\n",
        "\n",
        "X_train_all, X_val_all, y_train_all, y_val_all = train_test_split(x, yall, test_size=0.2,shuffle=True, random_state=1234)\n",
        "\n",
        "X_val_all, X_test_all, y_val_all, y_test_all = train_test_split(X_val_all, y_val_all, test_size=0.5,shuffle=True, random_state=1234)\n",
        "\n"
      ]
    },
    {
      "cell_type": "code",
      "execution_count": null,
      "id": "796f373c",
      "metadata": {
        "id": "796f373c"
      },
      "outputs": [],
      "source": [
        ""
      ]
    },
    {
      "cell_type": "markdown",
      "id": "a512e684",
      "metadata": {
        "id": "a512e684"
      },
      "source": [
        "# Train Machine Learning Models"
      ]
    },
    {
      "cell_type": "code",
      "execution_count": null,
      "id": "76cae38d",
      "metadata": {
        "id": "76cae38d"
      },
      "outputs": [],
      "source": [
        "from sklearn.model_selection import train_test_split\n",
        "from sklearn.preprocessing import StandardScaler, RobustScaler, MinMaxScaler, MaxAbsScaler, QuantileTransformer, PowerTransformer, PolynomialFeatures\n",
        "from sklearn.decomposition import PCA\n",
        "from sklearn.linear_model import LinearRegression\n",
        "from sklearn.linear_model import Ridge , ridge_regression,Lasso\n",
        "from sklearn.multioutput import MultiOutputRegressor\n",
        "from sklearn.ensemble import RandomForestRegressor, VotingRegressor,BaggingRegressor,ExtraTreesRegressor\n",
        "from sklearn.pipeline import make_pipeline, FeatureUnion\n",
        "from sklearn.metrics import mean_squared_error, r2_score\n",
        "from sklearn.svm import SVR\n",
        "from sklearn.ensemble import GradientBoostingRegressor, AdaBoostRegressor\n",
        "from sklearn.preprocessing import StandardScaler, RobustScaler, MinMaxScaler, MaxAbsScaler\n",
        "from sklearn.tree import DecisionTreeRegressor\n",
        "from sklearn.metrics import mean_squared_error\n",
        "from sklearn.neighbors import KNeighborsRegressor\n",
        "from sklearn.metrics import accuracy_score \n",
        "from sklearn.linear_model import OrthogonalMatchingPursuit\n",
        "from sklearn.datasets import make_regression\n",
        "import sklearn.linear_model"
      ]
    },
    {
      "cell_type": "markdown",
      "id": "c53edd65",
      "metadata": {
        "id": "c53edd65"
      },
      "source": [
        "# YAW"
      ]
    },
    {
      "cell_type": "code",
      "execution_count": null,
      "id": "d98830f4",
      "metadata": {
        "id": "d98830f4"
      },
      "outputs": [],
      "source": [
        "pipelines = {\n",
        "#     'lr_pca':make_pipeline(StandardScaler(),PCA(n_components=0.99), LinearRegression()),\n",
        "    'rf_pca':make_pipeline(StandardScaler(),PCA(n_components=0.99), RandomForestRegressor())\n",
        "#     ,'lr_wpca':make_pipeline(PCA(n_components=0.99),LinearRegression()),\n",
        "#     'rf_wpca':make_pipeline(PCA(n_components=0.99),RandomForestRegressor()),\n",
        "#     'DT'    :make_pipeline(DecisionTreeRegressor()),\n",
        "#     'DTpca' :make_pipeline(PCA(n_components=0.99),DecisionTreeRegressor()),\n",
        "#     'rfpcap' :make_pipeline(   RandomForestRegressor(n_estimators=30, n_jobs=-1))\n",
        "# \n",
        "}\n",
        "\n"
      ]
    },
    {
      "cell_type": "code",
      "execution_count": null,
      "id": "3de2f290",
      "metadata": {
        "id": "3de2f290"
      },
      "outputs": [],
      "source": [
        "yaw_fit_models = {}\n",
        "for algo, pipeline in pipelines.items():\n",
        "    model = pipeline.fit(X_train_y, y_train_y)\n",
        "    yaw_fit_models[algo] = model\n"
      ]
    },
    {
      "cell_type": "code",
      "execution_count": null,
      "id": "940ed506",
      "metadata": {
        "id": "940ed506"
      },
      "outputs": [],
      "source": [
        "Train_pred_yaw      = yaw_fit_models['rf_pca'].predict(X_train_y)\n",
        "Validation_pred_yaw = yaw_fit_models['rf_pca'].predict(X_val_y)\n",
        "yaw_hat=yaw_fit_models['rf_pca'].predict(X_test_y)"
      ]
    },
    {
      "cell_type": "code",
      "execution_count": null,
      "id": "1d334bab",
      "metadata": {
        "id": "1d334bab",
        "outputId": "5be2a30f-e6af-4393-e544-2317e49b477f"
      },
      "outputs": [
        {
          "name": "stdout",
          "output_type": "stream",
          "text": [
            "Train MSE  0.01096723181404754\n",
            "Validation MSE  0.02235874416339032\n",
            "\n",
            "###########################\n",
            "\n",
            "Train r2_score  0.9671595765146147\n",
            "Validation r2_score  0.935790893015142\n",
            "Test r2_score  0.939158917015116\n",
            "\n",
            "###########################\n",
            "\n",
            "Train score  0.9671595765146147\n",
            "Validation Score  0.935790893015142\n",
            "test score:  0.939158917015116\n",
            "\n",
            "###########################\n",
            "\n"
          ]
        }
      ],
      "source": [
        "print(\"Train MSE \"       , mean_squared_error( y_train_y,Train_pred_yaw ))\n",
        "print(\"Validation MSE \"  , mean_squared_error( y_val_y,Validation_pred_yaw ))\n",
        "\n",
        "print(\"\\n###########################\\n\")\n",
        "\n",
        "print(\"Train r2_score \"            , r2_score(y_train_y,Train_pred_yaw))\n",
        "print(\"Validation r2_score \"       , r2_score( y_val_y, Validation_pred_yaw))\n",
        "print(\"Test r2_score \"             , r2_score(y_test_y , yaw_hat))\n",
        "print(\"\\n###########################\\n\")\n",
        "\n",
        "print(\"Train score \"                   , yaw_fit_models['rf_pca'].score(X_train_y , y_train_y))\n",
        "print(\"Validation Score \"              , yaw_fit_models['rf_pca'].score(X_val_y, y_val_y))\n",
        "print(\"test score: \"                   ,yaw_fit_models ['rf_pca'].score(X_test_y, y_test_y))\n",
        " \n",
        "print(\"\\n###########################\\n\")"
      ]
    },
    {
      "cell_type": "markdown",
      "id": "2191f68e",
      "metadata": {
        "id": "2191f68e"
      },
      "source": [
        "# Roll"
      ]
    },
    {
      "cell_type": "code",
      "execution_count": null,
      "id": "8cd78015",
      "metadata": {
        "id": "8cd78015"
      },
      "outputs": [],
      "source": [
        "pipelines = {\n",
        "#     'rf_pca':make_pipeline(StandardScaler(),PCA(n_components=0.99), RandomForestRegressor()),\n",
        "#     'DTpca' :make_pipeline(PCA(n_components=0.99),DecisionTreeRegressor()),\n",
        "    'rfpcap' :make_pipeline(PCA(n_components=0.99), RandomForestRegressor(n_estimators=200))\n",
        "\n",
        "\n",
        "}\n"
      ]
    },
    {
      "cell_type": "code",
      "execution_count": null,
      "id": "2a95b8d7",
      "metadata": {
        "id": "2a95b8d7"
      },
      "outputs": [],
      "source": [
        "roll_fit_models = {}\n",
        "for algo, pipeline in pipelines.items():\n",
        "    model = pipeline.fit(X_train_r, y_train_r)\n",
        "    roll_fit_models[algo] = model\n"
      ]
    },
    {
      "cell_type": "code",
      "execution_count": null,
      "id": "12554e09",
      "metadata": {
        "id": "12554e09"
      },
      "outputs": [],
      "source": [
        "Train_pred_roll     = roll_fit_models  ['rfpcap'].predict(X_train_r)\n",
        "Validation_pred_roll = roll_fit_models ['rfpcap'].predict(X_val_r)\n",
        "roll_hat             =roll_fit_models  ['rfpcap'].predict(X_test_r)"
      ]
    },
    {
      "cell_type": "code",
      "execution_count": null,
      "id": "5c884d9f",
      "metadata": {
        "id": "5c884d9f",
        "outputId": "ab15298d-55ad-411f-ffa5-331e17599369"
      },
      "outputs": [
        {
          "name": "stdout",
          "output_type": "stream",
          "text": [
            "Train MSE  0.057589714398586164\n",
            "Validation MSE  0.022289056932878814\n",
            "\n",
            "###########################\n",
            "\n",
            "Train r2_score  0.8858221349732149\n",
            "Validation r2_score  0.7053034867828494\n",
            "Test r2_score  0.6886814209568144\n",
            "\n",
            "###########################\n",
            "\n",
            "Train score  0.8858221349732149\n",
            "Validation Score  0.7053034867828494\n",
            "test score:  0.6886814209568144\n",
            "\n",
            "###########################\n",
            "\n"
          ]
        }
      ],
      "source": [
        "print(\"Train MSE \"       , mean_squared_error( y_train_r,Train_pred_roll ))\n",
        "print(\"Validation MSE \"  , mean_squared_error( y_val_r,Validation_pred_roll ))\n",
        "\n",
        "print(\"\\n###########################\\n\")\n",
        "\n",
        "print(\"Train r2_score \"            , r2_score(y_train_r,Train_pred_roll))\n",
        "print(\"Validation r2_score \"       , r2_score( y_val_r, Validation_pred_roll))\n",
        "print(\"Test r2_score \"             , r2_score(y_test_r , roll_hat))\n",
        "print(\"\\n###########################\\n\")\n",
        "\n",
        "print(\"Train score \"                   , roll_fit_models['rfpcap'].score(X_train_r , y_train_r))\n",
        "print(\"Validation Score \"              , roll_fit_models['rfpcap'].score(X_val_r, y_val_r))\n",
        "print(\"test score: \"                   , roll_fit_models ['rfpcap'].score(X_test_r, y_test_r))\n",
        " \n",
        "print(\"\\n###########################\\n\")\n"
      ]
    },
    {
      "cell_type": "markdown",
      "id": "378e6c1a",
      "metadata": {
        "id": "378e6c1a"
      },
      "source": [
        "# ROLL WITH VOTING"
      ]
    },
    {
      "cell_type": "code",
      "execution_count": null,
      "id": "a9dfdf79",
      "metadata": {
        "id": "a9dfdf79"
      },
      "outputs": [],
      "source": [
        "r1 = svm.SVR(kernel='rbf')\n",
        "r2 = DecisionTreeRegressor()\n",
        "r3 = RandomForestRegressor(n_estimators=200)\n",
        "r4=VotingRegressor([('r1',r1),('r2' , r2),('r3',r3)])"
      ]
    },
    {
      "cell_type": "code",
      "execution_count": null,
      "id": "1c030192",
      "metadata": {
        "id": "1c030192"
      },
      "outputs": [],
      "source": [
        "# X_train_r=PCA().fit_transform(X_train_r)\n"
      ]
    },
    {
      "cell_type": "code",
      "execution_count": null,
      "id": "4efcbb79",
      "metadata": {
        "id": "4efcbb79",
        "outputId": "f9156ef6-db88-4a4f-869d-9cdde0eb9cd5"
      },
      "outputs": [
        {
          "data": {
            "text/plain": [
              "VotingRegressor(estimators=[('r1', SVR()), ('r2', DecisionTreeRegressor()),\n",
              "                            ('r3', RandomForestRegressor(n_estimators=200))])"
            ]
          },
          "execution_count": 211,
          "metadata": {},
          "output_type": "execute_result"
        }
      ],
      "source": [
        "r4.fit(X_train_r, y_train_r)"
      ]
    },
    {
      "cell_type": "code",
      "execution_count": null,
      "id": "fe9d569f",
      "metadata": {
        "id": "fe9d569f"
      },
      "outputs": [],
      "source": [
        "Train_pred_roll     = r4.predict(X_train_r)\n",
        "Validation_pred_roll = r4.predict(X_val_r)\n",
        "roll_hat             =r4.predict(X_test_r)"
      ]
    },
    {
      "cell_type": "code",
      "execution_count": null,
      "id": "d1fe4a07",
      "metadata": {
        "id": "d1fe4a07",
        "outputId": "0a470bfc-2239-46fa-d88d-7b7a5a775b50"
      },
      "outputs": [
        {
          "name": "stdout",
          "output_type": "stream",
          "text": [
            "Train MSE  0.0858647063087905\n",
            "Validation MSE  0.012797042895045725\n",
            "\n",
            "###########################\n",
            "\n",
            "Train r2_score  0.8297638918707624\n",
            "Validation r2_score  0.8308028943522826\n",
            "Test r2_score  0.5563622026403514\n",
            "\n",
            "###########################\n",
            "\n",
            "Train score  0.8297638918707624\n",
            "Validation Score  0.8308028943522826\n",
            "test score:  0.5563622026403514\n",
            "\n",
            "###########################\n",
            "\n"
          ]
        }
      ],
      "source": [
        "print(\"Train MSE \"       , mean_squared_error( y_train_r,Train_pred_roll ))\n",
        "print(\"Validation MSE \"  , mean_squared_error( y_val_r,Validation_pred_roll ))\n",
        "\n",
        "print(\"\\n###########################\\n\")\n",
        "\n",
        "print(\"Train r2_score \"            , r2_score(y_train_r,Train_pred_roll))\n",
        "print(\"Validation r2_score \"       , r2_score( y_val_r, Validation_pred_roll))\n",
        "print(\"Test r2_score \"             , r2_score(y_test_r , roll_hat))\n",
        "print(\"\\n###########################\\n\")\n",
        "\n",
        "print(\"Train score \"                   , r4.score(X_train_r , y_train_r))\n",
        "print(\"Validation Score \"              , r4.score(X_val_r, y_val_r))\n",
        "print(\"test score: \"                   , r4.score(X_test_r, y_test_r))\n",
        " \n",
        "print(\"\\n###########################\\n\")\n"
      ]
    },
    {
      "cell_type": "code",
      "execution_count": null,
      "id": "dc4ccce5",
      "metadata": {
        "id": "dc4ccce5"
      },
      "outputs": [],
      "source": [
        ""
      ]
    },
    {
      "cell_type": "code",
      "execution_count": null,
      "id": "5a50ebc4",
      "metadata": {
        "id": "5a50ebc4"
      },
      "outputs": [],
      "source": [
        ""
      ]
    },
    {
      "cell_type": "code",
      "execution_count": null,
      "id": "0b475a4c",
      "metadata": {
        "id": "0b475a4c"
      },
      "outputs": [],
      "source": [
        "# ######## DTpca\n",
        "# Train MSE  0.0\n",
        "# Validation MSE  0.04477750019570877\n",
        "\n",
        "# ###########################\n",
        "\n",
        "# Train r2_score  1.0\n",
        "# Validation r2_score  0.4079707715766818\n",
        "# Test r2_score  0.6242046134613088\n",
        "\n",
        "# ###########################\n",
        "\n",
        "# Train score  1.0\n",
        "# Validation Score  0.4079707715766818\n",
        "# test score:  0.6242046134613088\n",
        "\n",
        "# ###########################\n",
        "\n",
        "\n",
        "#**********************************************************\n",
        " ######### rfpcap\n",
        "\n",
        "# Train MSE  0.08568100768216784\n",
        "# Validation MSE  0.015235995963917124\n",
        "\n",
        "# ###########################\n",
        "\n",
        "# Train r2_score  0.8301280943540559\n",
        "# Validation r2_score  0.7985560851911272\n",
        "# Test r2_score  0.6849495987237703\n",
        "\n",
        "# ###########################\n",
        "\n",
        "# Train score  0.8301280943540559\n",
        "# Validation Score  0.7985560851911272\n",
        "# test score:  0.6849495987237703\n",
        "\n",
        "# ###########################\n",
        "\n",
        "\n",
        "# ########### rfpcap with standard\n",
        "\n",
        "# Train MSE  0.07622373914182135\n",
        "# Validation MSE  0.01627450535743072\n",
        "\n",
        "# ###########################\n",
        "\n",
        "# Train r2_score  0.8488781566212209\n",
        "# Validation r2_score  0.7848253518481536\n",
        "# Test r2_score  0.6701656068233688\n",
        "\n",
        "# ###########################\n",
        "\n",
        "# Train score  0.8488781566212209\n",
        "# Validation Score  0.7848253518481536\n",
        "# test score:  0.6701656068233688\n",
        "\n",
        "# ###########################\n",
        "\n",
        "\n",
        "\n",
        "\n",
        "    \n",
        "    \n",
        "\n",
        "\n"
      ]
    },
    {
      "cell_type": "code",
      "execution_count": null,
      "id": "7021d85a",
      "metadata": {
        "id": "7021d85a"
      },
      "outputs": [],
      "source": [
        ""
      ]
    },
    {
      "cell_type": "code",
      "execution_count": null,
      "id": "d413d8e1",
      "metadata": {
        "id": "d413d8e1"
      },
      "outputs": [],
      "source": [
        ""
      ]
    },
    {
      "cell_type": "code",
      "execution_count": null,
      "id": "9b691ef1",
      "metadata": {
        "id": "9b691ef1"
      },
      "outputs": [],
      "source": [
        ""
      ]
    },
    {
      "cell_type": "code",
      "execution_count": null,
      "id": "53fa2411",
      "metadata": {
        "id": "53fa2411"
      },
      "outputs": [],
      "source": [
        ""
      ]
    },
    {
      "cell_type": "code",
      "execution_count": null,
      "id": "e88ba658",
      "metadata": {
        "id": "e88ba658"
      },
      "outputs": [],
      "source": [
        ""
      ]
    },
    {
      "cell_type": "code",
      "execution_count": null,
      "id": "f3af1014",
      "metadata": {
        "id": "f3af1014"
      },
      "outputs": [],
      "source": [
        ""
      ]
    },
    {
      "cell_type": "code",
      "execution_count": null,
      "id": "f0f464f3",
      "metadata": {
        "id": "f0f464f3"
      },
      "outputs": [],
      "source": [
        ""
      ]
    },
    {
      "cell_type": "code",
      "execution_count": null,
      "id": "4a6bb646",
      "metadata": {
        "id": "4a6bb646"
      },
      "outputs": [],
      "source": [
        ""
      ]
    },
    {
      "cell_type": "code",
      "execution_count": null,
      "id": "10777d51",
      "metadata": {
        "id": "10777d51"
      },
      "outputs": [],
      "source": [
        "for algo, model in fit_models.items():\n",
        "    yhat = model.predict(X_test)\n",
        "    print(algo, accuracy_score(y_test, yhat))"
      ]
    },
    {
      "cell_type": "code",
      "execution_count": null,
      "id": "17207eac",
      "metadata": {
        "id": "17207eac"
      },
      "outputs": [],
      "source": [
        ""
      ]
    },
    {
      "cell_type": "code",
      "execution_count": null,
      "id": "6123782a",
      "metadata": {
        "id": "6123782a"
      },
      "outputs": [],
      "source": [
        "\n",
        "\n",
        "fit_models = {}\n",
        "for algo, pipeline in pipelines.items():\n",
        "    model = pipeline.fit(X_train, y_train)\n",
        "    fit_models[algo] = model\n",
        "\n"
      ]
    },
    {
      "cell_type": "code",
      "execution_count": null,
      "id": "5c5c4312",
      "metadata": {
        "id": "5c5c4312"
      },
      "outputs": [],
      "source": [
        ""
      ]
    },
    {
      "cell_type": "code",
      "execution_count": null,
      "id": "31089082",
      "metadata": {
        "id": "31089082"
      },
      "outputs": [],
      "source": [
        ""
      ]
    },
    {
      "cell_type": "code",
      "execution_count": null,
      "id": "ad75f218",
      "metadata": {
        "id": "ad75f218"
      },
      "outputs": [],
      "source": [
        ""
      ]
    },
    {
      "cell_type": "code",
      "execution_count": null,
      "id": "fa3e8317",
      "metadata": {
        "id": "fa3e8317"
      },
      "outputs": [],
      "source": [
        ""
      ]
    },
    {
      "cell_type": "code",
      "execution_count": null,
      "id": "4d37a003",
      "metadata": {
        "id": "4d37a003"
      },
      "outputs": [],
      "source": [
        ""
      ]
    },
    {
      "cell_type": "code",
      "execution_count": null,
      "id": "58a1cb9f",
      "metadata": {
        "id": "58a1cb9f"
      },
      "outputs": [],
      "source": [
        "\n",
        "\n",
        "fit_models['rc'].predict(X_test)\n",
        "\n"
      ]
    },
    {
      "cell_type": "code",
      "execution_count": null,
      "id": "777d8a90",
      "metadata": {
        "id": "777d8a90"
      },
      "outputs": [],
      "source": [
        "\n",
        "\n",
        "for algo, model in fit_models.items():\n",
        "    yhat = model.predict(X_test)\n",
        "    print(algo, accuracy_score(y_test, yhat))\n",
        "\n"
      ]
    },
    {
      "cell_type": "code",
      "execution_count": null,
      "id": "7b1e2fc5",
      "metadata": {
        "id": "7b1e2fc5"
      },
      "outputs": [],
      "source": [
        ""
      ]
    },
    {
      "cell_type": "code",
      "execution_count": null,
      "id": "13292765",
      "metadata": {
        "id": "13292765"
      },
      "outputs": [],
      "source": [
        ""
      ]
    },
    {
      "cell_type": "code",
      "execution_count": null,
      "id": "d1bef2ed",
      "metadata": {
        "id": "d1bef2ed"
      },
      "outputs": [],
      "source": [
        ""
      ]
    },
    {
      "cell_type": "code",
      "execution_count": null,
      "id": "f4d8d24b",
      "metadata": {
        "id": "f4d8d24b"
      },
      "outputs": [],
      "source": [
        ""
      ]
    },
    {
      "cell_type": "code",
      "execution_count": null,
      "id": "2c8cd497",
      "metadata": {
        "id": "2c8cd497"
      },
      "outputs": [],
      "source": [
        ""
      ]
    },
    {
      "cell_type": "code",
      "execution_count": null,
      "id": "6e7c38bb",
      "metadata": {
        "id": "6e7c38bb"
      },
      "outputs": [],
      "source": [
        ""
      ]
    },
    {
      "cell_type": "code",
      "execution_count": null,
      "id": "f4b5082d",
      "metadata": {
        "id": "f4b5082d"
      },
      "outputs": [],
      "source": [
        ""
      ]
    },
    {
      "cell_type": "code",
      "execution_count": null,
      "id": "ffdf75b5",
      "metadata": {
        "id": "ffdf75b5"
      },
      "outputs": [],
      "source": [
        "import pickle "
      ]
    },
    {
      "cell_type": "code",
      "execution_count": null,
      "id": "a1f4db95",
      "metadata": {
        "id": "a1f4db95"
      },
      "outputs": [],
      "source": [
        "\n",
        "\n",
        "with open('body_language.pkl', 'wb') as f:\n",
        "    pickle.dump(fit_models['rf'], f)\n",
        "\n"
      ]
    },
    {
      "cell_type": "code",
      "execution_count": null,
      "id": "08db519c",
      "metadata": {
        "id": "08db519c"
      },
      "outputs": [],
      "source": [
        "\n",
        "\n",
        "with open('body_language.pkl', 'rb') as f:\n",
        "    model = pickle.load(f)\n",
        "\n"
      ]
    },
    {
      "cell_type": "code",
      "execution_count": null,
      "id": "e82d3d5a",
      "metadata": {
        "id": "e82d3d5a"
      },
      "outputs": [],
      "source": [
        ""
      ]
    },
    {
      "cell_type": "code",
      "execution_count": null,
      "id": "5746f52d",
      "metadata": {
        "id": "5746f52d"
      },
      "outputs": [],
      "source": [
        ""
      ]
    },
    {
      "cell_type": "code",
      "execution_count": null,
      "id": "5f2152ab",
      "metadata": {
        "id": "5f2152ab"
      },
      "outputs": [],
      "source": [
        ""
      ]
    },
    {
      "cell_type": "code",
      "execution_count": null,
      "id": "4a7f8cda",
      "metadata": {
        "id": "4a7f8cda"
      },
      "outputs": [],
      "source": [
        ""
      ]
    },
    {
      "cell_type": "code",
      "execution_count": null,
      "id": "5bb71a1b",
      "metadata": {
        "id": "5bb71a1b"
      },
      "outputs": [],
      "source": [
        ""
      ]
    },
    {
      "cell_type": "code",
      "execution_count": null,
      "id": "cdc25c4e",
      "metadata": {
        "id": "cdc25c4e"
      },
      "outputs": [],
      "source": [
        ""
      ]
    },
    {
      "cell_type": "code",
      "execution_count": null,
      "id": "fcf8bcba",
      "metadata": {
        "id": "fcf8bcba"
      },
      "outputs": [],
      "source": [
        ""
      ]
    },
    {
      "cell_type": "code",
      "execution_count": null,
      "id": "75c86e1a",
      "metadata": {
        "id": "75c86e1a"
      },
      "outputs": [],
      "source": [
        ""
      ]
    },
    {
      "cell_type": "code",
      "execution_count": null,
      "id": "600bc339",
      "metadata": {
        "id": "600bc339"
      },
      "outputs": [],
      "source": [
        ""
      ]
    },
    {
      "cell_type": "code",
      "execution_count": null,
      "id": "d497dc03",
      "metadata": {
        "id": "d497dc03"
      },
      "outputs": [],
      "source": [
        ""
      ]
    },
    {
      "cell_type": "code",
      "execution_count": null,
      "id": "d21ec09f",
      "metadata": {
        "id": "d21ec09f"
      },
      "outputs": [],
      "source": [
        ""
      ]
    },
    {
      "cell_type": "code",
      "execution_count": null,
      "id": "4c1086d9",
      "metadata": {
        "id": "4c1086d9"
      },
      "outputs": [],
      "source": [
        ""
      ]
    },
    {
      "cell_type": "code",
      "execution_count": null,
      "id": "241d8593",
      "metadata": {
        "id": "241d8593"
      },
      "outputs": [],
      "source": [
        ""
      ]
    },
    {
      "cell_type": "code",
      "execution_count": null,
      "id": "a3d601f2",
      "metadata": {
        "id": "a3d601f2"
      },
      "outputs": [],
      "source": [
        ""
      ]
    },
    {
      "cell_type": "code",
      "execution_count": null,
      "id": "3623e48d",
      "metadata": {
        "id": "3623e48d"
      },
      "outputs": [],
      "source": [
        ""
      ]
    },
    {
      "cell_type": "code",
      "execution_count": null,
      "id": "87ab6c21",
      "metadata": {
        "id": "87ab6c21"
      },
      "outputs": [],
      "source": [
        ""
      ]
    },
    {
      "cell_type": "code",
      "execution_count": null,
      "id": "c0bee972",
      "metadata": {
        "id": "c0bee972"
      },
      "outputs": [],
      "source": [
        ""
      ]
    },
    {
      "cell_type": "code",
      "execution_count": null,
      "id": "1d66d9b2",
      "metadata": {
        "id": "1d66d9b2"
      },
      "outputs": [],
      "source": [
        ""
      ]
    },
    {
      "cell_type": "code",
      "execution_count": null,
      "id": "ccedb3e8",
      "metadata": {
        "id": "ccedb3e8"
      },
      "outputs": [],
      "source": [
        ""
      ]
    },
    {
      "cell_type": "code",
      "execution_count": null,
      "id": "a9a26370",
      "metadata": {
        "id": "a9a26370"
      },
      "outputs": [],
      "source": [
        "# cap = cv2.VideoCapture(0)\n",
        "# # Initiate holistic model\n",
        "# with mp_holistic.Holistic(min_detection_confidence=0.5, min_tracking_confidence=0.5) as holistic:\n",
        "    \n",
        "#     while cap.isOpened():\n",
        "#         ret, frame = cap.read()\n",
        "        \n",
        "#         # Recolor Feed\n",
        "#         image = cv2.cvtColor(frame, cv2.COLOR_BGR2RGB)\n",
        "#         image.flags.writeable = False        \n",
        "        \n",
        "#         # Make Detections\n",
        "#         results = holistic.process(image)\n",
        "#         # print(results.face_landmarks)\n",
        "        \n",
        "#         # face_landmarks, pose_landmarks, left_hand_landmarks, right_hand_landmarks\n",
        "        \n",
        "#         # Recolor image back to BGR for rendering\n",
        "#         image.flags.writeable = True   \n",
        "#         image = cv2.cvtColor(image, cv2.COLOR_RGB2BGR)\n",
        "        \n",
        "#         # 1. Draw face landmarks\n",
        "#         mp_drawing.draw_landmarks(image, results.face_landmarks, mp_holistic.FACE_CONNECTIONS, \n",
        "#                                  mp_drawing.DrawingSpec(color=(80,110,10), thickness=1, circle_radius=1),\n",
        "#                                  mp_drawing.DrawingSpec(color=(80,256,121), thickness=1, circle_radius=1)\n",
        "#                                  )\n",
        "        \n",
        "        \n",
        "                        \n",
        "#         cv2.imshow('Raw Webcam Feed', image)\n",
        "\n",
        "#         if cv2.waitKey(10) & 0xFF == ord('q'):\n",
        "#             break\n",
        "\n",
        "# cap.release()\n",
        "# cv2.destroyAllWindows()"
      ]
    }
  ],
  "metadata": {
    "kernelspec": {
      "display_name": "Python 3 (ipykernel)",
      "language": "python",
      "name": "python3"
    },
    "language_info": {
      "codemirror_mode": {
        "name": "ipython",
        "version": 3
      },
      "file_extension": ".py",
      "mimetype": "text/x-python",
      "name": "python",
      "nbconvert_exporter": "python",
      "pygments_lexer": "ipython3",
      "version": "3.9.7"
    },
    "colab": {
      "name": "NotebookV1(Without Normalization).ipynb",
      "provenance": [],
      "include_colab_link": true
    }
  },
  "nbformat": 4,
  "nbformat_minor": 5
}