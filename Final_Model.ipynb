{
  "cells": [
    {
      "cell_type": "markdown",
      "metadata": {
        "id": "view-in-github",
        "colab_type": "text"
      },
      "source": [
        "<a href=\"https://colab.research.google.com/github/AYA0HASSAN/Pose_detection/blob/Aya_branch/Final_Model.ipynb\" target=\"_parent\"><img src=\"https://colab.research.google.com/assets/colab-badge.svg\" alt=\"Open In Colab\"/></a>"
      ]
    },
    {
      "cell_type": "markdown",
      "metadata": {
        "id": "c6707637"
      },
      "source": [
        "## Import Libraries"
      ],
      "id": "c6707637"
    },
    {
      "cell_type": "code",
      "execution_count": null,
      "metadata": {
        "colab": {
          "background_save": true
        },
        "id": "7c8386ca"
      },
      "outputs": [],
      "source": [
        "import numpy as np\n",
        "import pandas as pd\n",
        "import scipy.io as sio\n",
        "import os\n",
        "import tensorflow as tf\n",
        "\n",
        "import cv2\n",
        "import dlib\n",
        "\n",
        "from sklearn.linear_model import LinearRegression\n",
        "from sklearn import linear_model\n",
        "from sklearn.model_selection import train_test_split\n",
        "from sklearn.metrics import precision_recall_fscore_support\n",
        "from sklearn.metrics import mean_squared_error\n",
        "from sklearn.multioutput import MultiOutputRegressor\n",
        "from sklearn.linear_model import Ridge\n",
        "from sklearn.ensemble import RandomForestRegressor\n",
        "\n",
        "# import mlflow\n",
        "# from mlflow.tracking import MlflowClient\n",
        "\n",
        "import matplotlib.pyplot as plt\n",
        "import seaborn as sns\n",
        "import plotly.express as px\n",
        "from google.colab import drive"
      ],
      "id": "7c8386ca"
    },
    {
      "cell_type": "code",
      "execution_count": null,
      "metadata": {
        "colab": {
          "base_uri": "https://localhost:8080/",
          "height": 307,
          "resources": {
            "http://localhost:8080/nbextensions/google.colab/files.js": {
              "data": "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",
              "headers": [
                [
                  "content-type",
                  "application/javascript"
                ]
              ],
              "ok": true,
              "status": 200,
              "status_text": ""
            }
          }
        },
        "id": "UONwOG_2eVAp",
        "outputId": "ecc839f6-3ebe-45b6-f510-9bb4aa3c2182"
      },
      "outputs": [
        {
          "data": {
            "text/html": [
              "\n",
              "     <input type=\"file\" id=\"files-a064a039-78e5-47ef-893c-1786a2c4009f\" name=\"files[]\" multiple disabled\n",
              "        style=\"border:none\" />\n",
              "     <output id=\"result-a064a039-78e5-47ef-893c-1786a2c4009f\">\n",
              "      Upload widget is only available when the cell has been executed in the\n",
              "      current browser session. Please rerun this cell to enable.\n",
              "      </output>\n",
              "      <script src=\"/nbextensions/google.colab/files.js\"></script> "
            ],
            "text/plain": [
              "<IPython.core.display.HTML object>"
            ]
          },
          "metadata": {},
          "output_type": "display_data"
        },
        {
          "name": "stdout",
          "output_type": "stream",
          "text": [
            "Saving data.csv to data (1).csv\n"
          ]
        },
        {
          "data": {
            "text/html": [
              "\n",
              "  <div id=\"df-83054e9d-5c59-42c8-8f4e-7989b9a8e075\">\n",
              "    <div class=\"colab-df-container\">\n",
              "      <div>\n",
              "<style scoped>\n",
              "    .dataframe tbody tr th:only-of-type {\n",
              "        vertical-align: middle;\n",
              "    }\n",
              "\n",
              "    .dataframe tbody tr th {\n",
              "        vertical-align: top;\n",
              "    }\n",
              "\n",
              "    .dataframe thead th {\n",
              "        text-align: right;\n",
              "    }\n",
              "</style>\n",
              "<table border=\"1\" class=\"dataframe\">\n",
              "  <thead>\n",
              "    <tr style=\"text-align: right;\">\n",
              "      <th></th>\n",
              "      <th>nose_x</th>\n",
              "      <th>nose_y</th>\n",
              "      <th>chin_x</th>\n",
              "      <th>chin_y</th>\n",
              "      <th>righteye_rc_x</th>\n",
              "      <th>righteye_rc_y</th>\n",
              "      <th>lefteye_lc_x</th>\n",
              "      <th>lefteye_lc_y</th>\n",
              "      <th>mouth_rc_x</th>\n",
              "      <th>mouth_rc_y</th>\n",
              "      <th>mouth_lc_x</th>\n",
              "      <th>mouth_lc_y</th>\n",
              "      <th>pitch</th>\n",
              "      <th>yaw</th>\n",
              "      <th>roll</th>\n",
              "    </tr>\n",
              "  </thead>\n",
              "  <tbody>\n",
              "    <tr>\n",
              "      <th>0</th>\n",
              "      <td>210.793304</td>\n",
              "      <td>282.391510</td>\n",
              "      <td>182.876678</td>\n",
              "      <td>362.098145</td>\n",
              "      <td>244.540939</td>\n",
              "      <td>284.477783</td>\n",
              "      <td>291.340729</td>\n",
              "      <td>207.794174</td>\n",
              "      <td>273.853607</td>\n",
              "      <td>218.519974</td>\n",
              "      <td>248.992859</td>\n",
              "      <td>313.858582</td>\n",
              "      <td>-0.399231</td>\n",
              "      <td>0.018227</td>\n",
              "      <td>0.085676</td>\n",
              "    </tr>\n",
              "    <tr>\n",
              "      <th>1</th>\n",
              "      <td>200.270554</td>\n",
              "      <td>278.768677</td>\n",
              "      <td>205.846298</td>\n",
              "      <td>347.868408</td>\n",
              "      <td>212.636292</td>\n",
              "      <td>275.970337</td>\n",
              "      <td>246.227020</td>\n",
              "      <td>219.497284</td>\n",
              "      <td>240.278381</td>\n",
              "      <td>228.604675</td>\n",
              "      <td>211.068298</td>\n",
              "      <td>296.566040</td>\n",
              "      <td>0.470065</td>\n",
              "      <td>1.189533</td>\n",
              "      <td>0.300959</td>\n",
              "    </tr>\n",
              "    <tr>\n",
              "      <th>2</th>\n",
              "      <td>207.861694</td>\n",
              "      <td>282.409760</td>\n",
              "      <td>229.155289</td>\n",
              "      <td>349.297302</td>\n",
              "      <td>224.289276</td>\n",
              "      <td>278.439453</td>\n",
              "      <td>244.417877</td>\n",
              "      <td>229.510941</td>\n",
              "      <td>238.263702</td>\n",
              "      <td>236.791260</td>\n",
              "      <td>233.105896</td>\n",
              "      <td>297.185791</td>\n",
              "      <td>-0.184650</td>\n",
              "      <td>0.881137</td>\n",
              "      <td>-0.236852</td>\n",
              "    </tr>\n",
              "    <tr>\n",
              "      <th>3</th>\n",
              "      <td>219.280930</td>\n",
              "      <td>292.207214</td>\n",
              "      <td>244.332855</td>\n",
              "      <td>362.732819</td>\n",
              "      <td>242.067657</td>\n",
              "      <td>282.309021</td>\n",
              "      <td>254.078079</td>\n",
              "      <td>205.115799</td>\n",
              "      <td>246.204193</td>\n",
              "      <td>219.895065</td>\n",
              "      <td>254.550903</td>\n",
              "      <td>301.377075</td>\n",
              "      <td>-0.175379</td>\n",
              "      <td>0.299208</td>\n",
              "      <td>-0.373374</td>\n",
              "    </tr>\n",
              "    <tr>\n",
              "      <th>4</th>\n",
              "      <td>197.625732</td>\n",
              "      <td>287.040161</td>\n",
              "      <td>254.701157</td>\n",
              "      <td>354.565582</td>\n",
              "      <td>207.167908</td>\n",
              "      <td>280.051086</td>\n",
              "      <td>204.078888</td>\n",
              "      <td>228.311523</td>\n",
              "      <td>208.819092</td>\n",
              "      <td>234.895508</td>\n",
              "      <td>213.983398</td>\n",
              "      <td>300.547394</td>\n",
              "      <td>-0.882169</td>\n",
              "      <td>1.198004</td>\n",
              "      <td>-1.033374</td>\n",
              "    </tr>\n",
              "  </tbody>\n",
              "</table>\n",
              "</div>\n",
              "      <button class=\"colab-df-convert\" onclick=\"convertToInteractive('df-83054e9d-5c59-42c8-8f4e-7989b9a8e075')\"\n",
              "              title=\"Convert this dataframe to an interactive table.\"\n",
              "              style=\"display:none;\">\n",
              "        \n",
              "  <svg xmlns=\"http://www.w3.org/2000/svg\" height=\"24px\"viewBox=\"0 0 24 24\"\n",
              "       width=\"24px\">\n",
              "    <path d=\"M0 0h24v24H0V0z\" fill=\"none\"/>\n",
              "    <path d=\"M18.56 5.44l.94 2.06.94-2.06 2.06-.94-2.06-.94-.94-2.06-.94 2.06-2.06.94zm-11 1L8.5 8.5l.94-2.06 2.06-.94-2.06-.94L8.5 2.5l-.94 2.06-2.06.94zm10 10l.94 2.06.94-2.06 2.06-.94-2.06-.94-.94-2.06-.94 2.06-2.06.94z\"/><path d=\"M17.41 7.96l-1.37-1.37c-.4-.4-.92-.59-1.43-.59-.52 0-1.04.2-1.43.59L10.3 9.45l-7.72 7.72c-.78.78-.78 2.05 0 2.83L4 21.41c.39.39.9.59 1.41.59.51 0 1.02-.2 1.41-.59l7.78-7.78 2.81-2.81c.8-.78.8-2.07 0-2.86zM5.41 20L4 18.59l7.72-7.72 1.47 1.35L5.41 20z\"/>\n",
              "  </svg>\n",
              "      </button>\n",
              "      \n",
              "  <style>\n",
              "    .colab-df-container {\n",
              "      display:flex;\n",
              "      flex-wrap:wrap;\n",
              "      gap: 12px;\n",
              "    }\n",
              "\n",
              "    .colab-df-convert {\n",
              "      background-color: #E8F0FE;\n",
              "      border: none;\n",
              "      border-radius: 50%;\n",
              "      cursor: pointer;\n",
              "      display: none;\n",
              "      fill: #1967D2;\n",
              "      height: 32px;\n",
              "      padding: 0 0 0 0;\n",
              "      width: 32px;\n",
              "    }\n",
              "\n",
              "    .colab-df-convert:hover {\n",
              "      background-color: #E2EBFA;\n",
              "      box-shadow: 0px 1px 2px rgba(60, 64, 67, 0.3), 0px 1px 3px 1px rgba(60, 64, 67, 0.15);\n",
              "      fill: #174EA6;\n",
              "    }\n",
              "\n",
              "    [theme=dark] .colab-df-convert {\n",
              "      background-color: #3B4455;\n",
              "      fill: #D2E3FC;\n",
              "    }\n",
              "\n",
              "    [theme=dark] .colab-df-convert:hover {\n",
              "      background-color: #434B5C;\n",
              "      box-shadow: 0px 1px 3px 1px rgba(0, 0, 0, 0.15);\n",
              "      filter: drop-shadow(0px 1px 2px rgba(0, 0, 0, 0.3));\n",
              "      fill: #FFFFFF;\n",
              "    }\n",
              "  </style>\n",
              "\n",
              "      <script>\n",
              "        const buttonEl =\n",
              "          document.querySelector('#df-83054e9d-5c59-42c8-8f4e-7989b9a8e075 button.colab-df-convert');\n",
              "        buttonEl.style.display =\n",
              "          google.colab.kernel.accessAllowed ? 'block' : 'none';\n",
              "\n",
              "        async function convertToInteractive(key) {\n",
              "          const element = document.querySelector('#df-83054e9d-5c59-42c8-8f4e-7989b9a8e075');\n",
              "          const dataTable =\n",
              "            await google.colab.kernel.invokeFunction('convertToInteractive',\n",
              "                                                     [key], {});\n",
              "          if (!dataTable) return;\n",
              "\n",
              "          const docLinkHtml = 'Like what you see? Visit the ' +\n",
              "            '<a target=\"_blank\" href=https://colab.research.google.com/notebooks/data_table.ipynb>data table notebook</a>'\n",
              "            + ' to learn more about interactive tables.';\n",
              "          element.innerHTML = '';\n",
              "          dataTable['output_type'] = 'display_data';\n",
              "          await google.colab.output.renderOutput(dataTable, element);\n",
              "          const docLink = document.createElement('div');\n",
              "          docLink.innerHTML = docLinkHtml;\n",
              "          element.appendChild(docLink);\n",
              "        }\n",
              "      </script>\n",
              "    </div>\n",
              "  </div>\n",
              "  "
            ],
            "text/plain": [
              "       nose_x      nose_y      chin_x      chin_y  righteye_rc_x  \\\n",
              "0  210.793304  282.391510  182.876678  362.098145     244.540939   \n",
              "1  200.270554  278.768677  205.846298  347.868408     212.636292   \n",
              "2  207.861694  282.409760  229.155289  349.297302     224.289276   \n",
              "3  219.280930  292.207214  244.332855  362.732819     242.067657   \n",
              "4  197.625732  287.040161  254.701157  354.565582     207.167908   \n",
              "\n",
              "   righteye_rc_y  lefteye_lc_x  lefteye_lc_y  mouth_rc_x  mouth_rc_y  \\\n",
              "0     284.477783    291.340729    207.794174  273.853607  218.519974   \n",
              "1     275.970337    246.227020    219.497284  240.278381  228.604675   \n",
              "2     278.439453    244.417877    229.510941  238.263702  236.791260   \n",
              "3     282.309021    254.078079    205.115799  246.204193  219.895065   \n",
              "4     280.051086    204.078888    228.311523  208.819092  234.895508   \n",
              "\n",
              "   mouth_lc_x  mouth_lc_y     pitch       yaw      roll  \n",
              "0  248.992859  313.858582 -0.399231  0.018227  0.085676  \n",
              "1  211.068298  296.566040  0.470065  1.189533  0.300959  \n",
              "2  233.105896  297.185791 -0.184650  0.881137 -0.236852  \n",
              "3  254.550903  301.377075 -0.175379  0.299208 -0.373374  \n",
              "4  213.983398  300.547394 -0.882169  1.198004 -1.033374  "
            ]
          },
          "execution_count": 2,
          "metadata": {},
          "output_type": "execute_result"
        }
      ],
      "source": [
        "from google.colab import files\n",
        "import io\n",
        "uploaded = files.upload()\n",
        "\n",
        "\n",
        " \n",
        "data_df = pd.read_csv(io.BytesIO(uploaded['data.csv']))\n",
        "data_df.head()"
      ],
      "id": "UONwOG_2eVAp"
    },
    {
      "cell_type": "code",
      "execution_count": null,
      "metadata": {
        "colab": {
          "base_uri": "https://localhost:8080/"
        },
        "id": "888c1862",
        "outputId": "f704f6c5-2aa8-4bcc-879a-3576ae2d36ad"
      },
      "outputs": [
        {
          "name": "stdout",
          "output_type": "stream",
          "text": [
            "<class 'pandas.core.frame.DataFrame'>\n",
            "RangeIndex: 2000 entries, 0 to 1999\n",
            "Data columns (total 15 columns):\n",
            " #   Column         Non-Null Count  Dtype  \n",
            "---  ------         --------------  -----  \n",
            " 0   nose_x         2000 non-null   float64\n",
            " 1   nose_y         2000 non-null   float64\n",
            " 2   chin_x         2000 non-null   float64\n",
            " 3   chin_y         2000 non-null   float64\n",
            " 4   righteye_rc_x  2000 non-null   float64\n",
            " 5   righteye_rc_y  2000 non-null   float64\n",
            " 6   lefteye_lc_x   2000 non-null   float64\n",
            " 7   lefteye_lc_y   2000 non-null   float64\n",
            " 8   mouth_rc_x     2000 non-null   float64\n",
            " 9   mouth_rc_y     2000 non-null   float64\n",
            " 10  mouth_lc_x     2000 non-null   float64\n",
            " 11  mouth_lc_y     2000 non-null   float64\n",
            " 12  pitch          2000 non-null   float64\n",
            " 13  yaw            2000 non-null   float64\n",
            " 14  roll           2000 non-null   float64\n",
            "dtypes: float64(15)\n",
            "memory usage: 234.5 KB\n"
          ]
        }
      ],
      "source": [
        "data_df.info()"
      ],
      "id": "888c1862"
    },
    {
      "cell_type": "code",
      "execution_count": null,
      "metadata": {
        "id": "db33536d"
      },
      "outputs": [],
      "source": [
        "features = data_df.drop(['pitch','yaw','roll'],axis = 1)\n",
        "labels = data_df[['pitch','yaw','roll']]\n",
        "pitch = data_df['pitch']\n",
        "yaw = data_df['yaw']\n",
        "roll = data_df['roll']"
      ],
      "id": "db33536d"
    },
    {
      "cell_type": "markdown",
      "metadata": {
        "id": "15012e0d"
      },
      "source": [
        "## Read Video"
      ],
      "id": "15012e0d"
    },
    {
      "cell_type": "code",
      "execution_count": null,
      "metadata": {
        "colab": {
          "base_uri": "https://localhost:8080/"
        },
        "id": "OLLuffn94Cuy",
        "outputId": "43fb15fe-411c-4d5d-b88a-87b4c08ce3a5"
      },
      "outputs": [
        {
          "name": "stdout",
          "output_type": "stream",
          "text": [
            "--2022-05-17 16:35:55--  http://dlib.net/files/shape_predictor_68_face_landmarks.dat.bz2\n",
            "Resolving dlib.net (dlib.net)... 107.180.26.78\n",
            "Connecting to dlib.net (dlib.net)|107.180.26.78|:80... connected.\n",
            "HTTP request sent, awaiting response... 200 OK\n",
            "Length: 64040097 (61M)\n",
            "Saving to: ‘shape_predictor_68_face_landmarks.dat.bz2’\n",
            "\n",
            "shape_predictor_68_ 100%[===================>]  61.07M  57.3MB/s    in 1.1s    \n",
            "\n",
            "2022-05-17 16:35:57 (57.3 MB/s) - ‘shape_predictor_68_face_landmarks.dat.bz2’ saved [64040097/64040097]\n",
            "\n"
          ]
        }
      ],
      "source": [
        "!wget http://dlib.net/files/shape_predictor_68_face_landmarks.dat.bz2"
      ],
      "id": "OLLuffn94Cuy"
    },
    {
      "cell_type": "code",
      "execution_count": null,
      "metadata": {
        "colab": {
          "base_uri": "https://localhost:8080/"
        },
        "id": "yD3dCrb84NN0",
        "outputId": "7980d361-6cd9-4d41-80c9-aba98bff62c5"
      },
      "outputs": [
        {
          "name": "stdout",
          "output_type": "stream",
          "text": [
            "--2022-05-17 16:36:35--  http://arunponnusamy.com/files/mmod_human_face_detector.dat\n",
            "Resolving arunponnusamy.com (arunponnusamy.com)... 185.199.108.153, 185.199.109.153, 185.199.110.153, ...\n",
            "Connecting to arunponnusamy.com (arunponnusamy.com)|185.199.108.153|:80... connected.\n",
            "HTTP request sent, awaiting response... 301 Moved Permanently\n",
            "Location: https://www.arunponnusamy.com/files/mmod_human_face_detector.dat [following]\n",
            "--2022-05-17 16:36:35--  https://www.arunponnusamy.com/files/mmod_human_face_detector.dat\n",
            "Resolving www.arunponnusamy.com (www.arunponnusamy.com)... 185.199.108.153, 185.199.109.153, 185.199.110.153, ...\n",
            "Connecting to www.arunponnusamy.com (www.arunponnusamy.com)|185.199.108.153|:443... connected.\n",
            "HTTP request sent, awaiting response... 200 OK\n",
            "Length: 729940 (713K) [application/octet-stream]\n",
            "Saving to: ‘mmod_human_face_detector.dat’\n",
            "\n",
            "mmod_human_face_det 100%[===================>] 712.83K  --.-KB/s    in 0.06s   \n",
            "\n",
            "2022-05-17 16:36:35 (12.1 MB/s) - ‘mmod_human_face_detector.dat’ saved [729940/729940]\n",
            "\n"
          ]
        }
      ],
      "source": [
        "!wget http://arunponnusamy.com/files/mmod_human_face_detector.dat"
      ],
      "id": "yD3dCrb84NN0"
    },
    {
      "cell_type": "code",
      "execution_count": null,
      "metadata": {
        "colab": {
          "base_uri": "https://localhost:8080/"
        },
        "id": "hI6gkOMb4NRT",
        "outputId": "328f79c7-4626-45b8-cc95-d9a58204d206"
      },
      "outputs": [
        {
          "name": "stdout",
          "output_type": "stream",
          "text": [
            "bzip2: Output file /content/shape_predictor_68_face_landmarks.dat already exists.\n"
          ]
        }
      ],
      "source": [
        "!bzip2 -d  '/content/shape_predictor_68_face_landmarks.dat.bz2'"
      ],
      "id": "hI6gkOMb4NRT"
    },
    {
      "cell_type": "code",
      "execution_count": null,
      "metadata": {
        "colab": {
          "base_uri": "https://localhost:8080/"
        },
        "id": "Cpjgd-vQ8bT2",
        "outputId": "c06b7125-c44d-4444-c293-57c6d9d4784c"
      },
      "outputs": [
        {
          "output_type": "stream",
          "name": "stdout",
          "text": [
            "Drive already mounted at /content/gdrive; to attempt to forcibly remount, call drive.mount(\"/content/gdrive\", force_remount=True).\n",
            "cp: cannot stat '/content/gdrive/My Drive/video-stable/model': No such file or directory\n",
            "cp: cannot stat '/content/gdrive/My Drive/video-stable/videos': No such file or directory\n"
          ]
        }
      ],
      "source": [
        "drive.mount('/content/gdrive')\n",
        "!cp -r '/content/gdrive/My Drive/video-stable/model'/content\n",
        "!cp -r '/content/gdrive/My Drive/video-stable/videos'/content"
      ],
      "id": "Cpjgd-vQ8bT2"
    },
    {
      "cell_type": "code",
      "execution_count": null,
      "metadata": {
        "id": "2iKuXxm-k536"
      },
      "outputs": [],
      "source": [
        "def save_image(path,file_name,images):\n",
        "  for i in range(0,len(images)):\n",
        "    # image name/id\n",
        "    temp = file_name+'_'+str(i)+'.png'\n",
        "    fn = os.path.join(path) + os.path.join(temp)\n",
        "    cv2.imwrite(fn, images[i])\n"
      ],
      "id": "2iKuXxm-k536"
    },
    {
      "cell_type": "code",
      "execution_count": null,
      "metadata": {
        "id": "LdiBafKxk57M"
      },
      "outputs": [],
      "source": [
        "cap=cv2.VideoCapture('/content/gdrive/MyDrive/video-stable/videos/video_data.mp4')\n",
        "image_frame = []\n",
        "\n",
        "while(cap.isOpened()):\n",
        "    pic, frame = cap.read()\n",
        "    if frame is None:\n",
        "      break\n",
        "    image_frame.append(frame)\n",
        "\n",
        "cap.release()\n",
        "plt.imshow(image_frame[0][:,:,::-1])"
      ],
      "id": "LdiBafKxk57M"
    },
    {
      "cell_type": "code",
      "execution_count": null,
      "metadata": {
        "colab": {
          "base_uri": "https://localhost:8080/",
          "height": 235
        },
        "id": "98d46fad",
        "outputId": "7ad9fe14-deab-47e7-aadb-9734308d42a3"
      },
      "outputs": [
        {
          "ename": "TypeError",
          "evalue": "ignored",
          "output_type": "error",
          "traceback": [
            "\u001b[0;31m---------------------------------------------------------------------------\u001b[0m",
            "\u001b[0;31mTypeError\u001b[0m                                 Traceback (most recent call last)",
            "\u001b[0;32m<ipython-input-14-13af50c85468>\u001b[0m in \u001b[0;36m<module>\u001b[0;34m()\u001b[0m\n\u001b[1;32m     10\u001b[0m \u001b[0;32mwhile\u001b[0m \u001b[0;32mTrue\u001b[0m\u001b[0;34m:\u001b[0m\u001b[0;34m\u001b[0m\u001b[0;34m\u001b[0m\u001b[0m\n\u001b[1;32m     11\u001b[0m   \u001b[0;31m# _, frame = capture.read()\u001b[0m\u001b[0;34m\u001b[0m\u001b[0;34m\u001b[0m\u001b[0;34m\u001b[0m\u001b[0m\n\u001b[0;32m---> 12\u001b[0;31m   \u001b[0mframe\u001b[0m \u001b[0;34m=\u001b[0m \u001b[0mcv2\u001b[0m\u001b[0;34m.\u001b[0m\u001b[0mimread\u001b[0m\u001b[0;34m(\u001b[0m\u001b[0;34m)\u001b[0m\u001b[0;34m\u001b[0m\u001b[0;34m\u001b[0m\u001b[0m\n\u001b[0m\u001b[1;32m     13\u001b[0m   \u001b[0mgray\u001b[0m \u001b[0;34m=\u001b[0m \u001b[0mcv2\u001b[0m\u001b[0;34m.\u001b[0m\u001b[0mcvtColor\u001b[0m\u001b[0;34m(\u001b[0m\u001b[0mframe\u001b[0m\u001b[0;34m,\u001b[0m \u001b[0mcv2\u001b[0m\u001b[0;34m.\u001b[0m\u001b[0mCOLOR_BGR2RGB\u001b[0m\u001b[0;34m)\u001b[0m\u001b[0;34m\u001b[0m\u001b[0;34m\u001b[0m\u001b[0m\n\u001b[1;32m     14\u001b[0m \u001b[0;31m# get all the faces\u001b[0m\u001b[0;34m\u001b[0m\u001b[0;34m\u001b[0m\u001b[0;34m\u001b[0m\u001b[0m\n",
            "\u001b[0;31mTypeError\u001b[0m: imread() missing required argument 'filename' (pos 1)"
          ]
        }
      ],
      "source": [
        "from pandas.core import frame\n",
        "# start capture video\n",
        "capture = cv2.VideoCapture(0)\n",
        "\n",
        "hog_face_detector = dlib.get_frontal_face_detector()\n",
        "\n",
        "dlib_face_landmark = dlib.shape_predictor(\"/content/shape_predictor_68_face_landmarks.dat\")\n",
        "\n",
        "# loop over for reading webcam imags\n",
        "while True:\n",
        "  # _, frame = capture.read()\n",
        "  frame = cv2.imread()\n",
        "  gray = cv2.cvtColor(frame, cv2.COLOR_BGR2RGB)\n",
        "# get all the faces \n",
        "  faces = hog_face_detector(gray)\n",
        "# loop allover the faces in the webcam\n",
        "  for face in faces:\n",
        "      face_landmarks = dlib_face_landmark(gray , face)\n",
        "      # get 68 landmarks points x & y \n",
        "      for i in range(0,68):\n",
        "\n",
        "        x = face_landmarks.part(i).x\n",
        "        y = face_landmarks.part(i).y\n",
        "        cv2.circle(frame, (x, y), 1, (0, 255, 255), 1)\n",
        "\n",
        "  cv2.imshow(\"Face Landmarks\", frame)\n",
        "  key = cv2.waitKey(1)\n",
        "  if key == 27:\n",
        "        break\n",
        "capture.release()\n",
        "cv2.destroyAllWindows()\n"
      ],
      "id": "98d46fad"
    },
    {
      "cell_type": "code",
      "execution_count": null,
      "metadata": {
        "id": "01517d99"
      },
      "outputs": [],
      "source": [
        "f_cascade = cv2.CascadeClassifier('lbpcascade_fronta lface.xml')\n",
        "gray = cv2.cvtColor()"
      ],
      "id": "01517d99"
    },
    {
      "cell_type": "code",
      "execution_count": null,
      "metadata": {
        "id": "3f384a2a"
      },
      "outputs": [],
      "source": [
        ""
      ],
      "id": "3f384a2a"
    }
  ],
  "metadata": {
    "colab": {
      "collapsed_sections": [],
      "name": "Final_Model.ipynb",
      "provenance": [],
      "include_colab_link": true
    },
    "kernelspec": {
      "display_name": "Python 3 (ipykernel)",
      "language": "python",
      "name": "python3"
    },
    "language_info": {
      "codemirror_mode": {
        "name": "ipython",
        "version": 3
      },
      "file_extension": ".py",
      "mimetype": "text/x-python",
      "name": "python",
      "nbconvert_exporter": "python",
      "pygments_lexer": "ipython3",
      "version": "3.9.7"
    }
  },
  "nbformat": 4,
  "nbformat_minor": 5
}